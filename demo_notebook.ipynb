{
 "cells": [
  {
   "cell_type": "markdown",
   "metadata": {},
   "source": [
    "### From a File\n"
   ]
  },
  {
   "cell_type": "code",
   "execution_count": null,
   "metadata": {},
   "outputs": [],
   "source": [
    "from main import create_taxonomy, add_categories\n",
    "\n",
    "filename = \"cais_data.csv\"\n",
    "brand = \"CAIS\"\n",
    "\n",
    "taxonomy, df, samples = create_taxonomy(filename,\n",
    "                                        text_column = \"keyword\",\n",
    "                                        search_volume_column = \"search_volume\",\n",
    "                                        platform = \"openai\", # \"palm\" or \"openai\"\n",
    "                                        days = 30,\n",
    "                                        S=500,\n",
    "                                        ngram_range = (1, 6),\n",
    "                                        min_df = 2,\n",
    "                                        brand = None)\n",
    "\n",
    "df = add_categories(taxonomy, df, brand) \n",
    "\n",
    "df.to_csv(\"cais_taxonomy.csv\", index=False)\n",
    "\n",
    "df.head()"
   ]
  },
  {
   "cell_type": "markdown",
   "metadata": {},
   "source": [
    "### From a GSC Account"
   ]
  },
  {
   "cell_type": "code",
   "execution_count": null,
   "metadata": {},
   "outputs": [],
   "source": [
    "from main import create_taxonomy\n",
    "\n",
    "brand = \"Green Group\"\n",
    "\n",
    "taxonomy, df, samples = create_taxonomy(\"sc-domain:greengroupcompanies.com\",\n",
    "                                        text_column = None,\n",
    "                                        search_volume_column = None,\n",
    "                                        platform = \"openai\", # \"palm\" or \"openai\"\n",
    "                                        days = 30,\n",
    "                                        S=100,\n",
    "                                        ngram_range = (1, 6),\n",
    "                                        min_df = 2,\n",
    "                                        brand = None,\n",
    "                                        limit_queries = 5)\n",
    "\n",
    "df = add_categories(taxonomy, df, brand) \n",
    "\n",
    "df.to_csv(\"greengroupcompanies_taxonomy.csv\", index=False)\n",
    "\n",
    "df.head()"
   ]
  },
  {
   "cell_type": "markdown",
   "metadata": {},
   "source": [
    "### Add clustered taxonomy"
   ]
  },
  {
   "cell_type": "code",
   "execution_count": null,
   "metadata": {},
   "outputs": [],
   "source": [
    "from lib.clustering import ClusterTopics\n",
    "\n",
    "queries = df['original_query'].tolist()\n",
    "\n",
    "model = ClusterTopics(\n",
    "        min_cluster_size =  3,\n",
    "        min_samples = None,\n",
    "        reduction_dims = 5,\n",
    "        cluster_model = \"agglomerative\",\n",
    "        cluster_categories = taxonomy,\n",
    "        use_elbow = True,\n",
    "        keep_outliers = False,\n",
    "        n_jobs = 3,\n",
    "    )\n",
    "\n",
    "\n",
    "labels, text_labels = model.fit(queries)\n",
    "label_lookup = {query: label for query, label in zip(queries, text_labels)}\n",
    "df['clustered_taxonomy'] = df['original_query'].map(label_lookup)\n",
    "\n",
    "df.to_csv(\"cais_taxonomy_clustered.csv\", index=False)\n",
    "\n",
    "df.head()"
   ]
  }
 ],
 "metadata": {
  "kernelspec": {
   "display_name": "taxonomy",
   "language": "python",
   "name": "python3"
  },
  "language_info": {
   "codemirror_mode": {
    "name": "ipython",
    "version": 3
   },
   "file_extension": ".py",
   "mimetype": "text/x-python",
   "name": "python",
   "nbconvert_exporter": "python",
   "pygments_lexer": "ipython3",
   "version": "3.9.16"
  },
  "orig_nbformat": 4
 },
 "nbformat": 4,
 "nbformat_minor": 2
}
