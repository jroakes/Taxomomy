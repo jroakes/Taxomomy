{
 "cells": [
  {
   "cell_type": "markdown",
   "metadata": {},
   "source": [
    "### From a File\n"
   ]
  },
  {
   "cell_type": "code",
   "execution_count": null,
   "metadata": {},
   "outputs": [],
   "source": [
    "from main import create_taxonomy, add_categories\n",
    "\n",
    "filename = \"cais_data.csv\"\n",
    "brand = \"CAIS\"\n",
    "\n",
    "taxonomy, df, samples = create_taxonomy(filename,\n",
    "                                        text_column = \"keyword\",\n",
    "                                        search_volume_column = \"search_volume\",\n",
    "                                        platform = \"openai\", # \"palm\" or \"openai\"\n",
    "                                        days = 30,\n",
    "                                        S=500,\n",
    "                                        ngram_range = (1, 6),\n",
    "                                        min_df = 2,\n",
    "                                        brand = None)\n",
    "\n",
    "df = add_categories(taxonomy, df, brand) \n",
    "\n",
    "df.to_csv(\"cais_taxonomy.csv\", index=False)\n",
    "\n",
    "df.head()"
   ]
  },
  {
   "cell_type": "markdown",
   "metadata": {},
   "source": [
    "### From a GSC Account"
   ]
  },
  {
   "cell_type": "code",
   "execution_count": null,
   "metadata": {},
   "outputs": [],
   "source": [
    "from main import create_taxonomy\n",
    "\n",
    "brand = \"Green Group\"\n",
    "\n",
    "taxonomy, df, samples = create_taxonomy(\"sc-domain:greengroupcompanies.com\",\n",
    "                                        text_column = None,\n",
    "                                        search_volume_column = None,\n",
    "                                        platform = \"openai\", # \"palm\" or \"openai\"\n",
    "                                        days = 30,\n",
    "                                        S=100,\n",
    "                                        ngram_range = (1, 6),\n",
    "                                        min_df = 2,\n",
    "                                        brand = None,\n",
    "                                        limit_queries = 5)\n",
    "\n",
    "df = add_categories(taxonomy, df, brand) \n",
    "\n",
    "df.to_csv(\"greengroupcompanies_taxonomy.csv\", index=False)\n",
    "\n",
    "df.head()"
   ]
  },
  {
   "cell_type": "code",
   "execution_count": 9,
   "metadata": {},
   "outputs": [
    {
     "name": "stdout",
     "output_type": "stream",
     "text": [
      "1536\n"
     ]
    }
   ],
   "source": [
    "from lib.api import openai\n",
    "import settings\n",
    "\n",
    "from tenacity import retry, wait_random_exponential, stop_after_attempt\n",
    "\n",
    "\n",
    "@retry(wait=wait_random_exponential(min=1, max=20), stop=stop_after_attempt(6))\n",
    "def get_embedding(text: str, model=\"text-embedding-ada-002\") -> list[float]:\n",
    "    return openai.Embedding.create(input=[text], model=model)[\"data\"][0][\"embedding\"]\n",
    "\n",
    "\n",
    "embedding = get_embedding(\"Your text goes here\", model=\"text-embedding-ada-002\")\n",
    "print(len(embedding))"
   ]
  },
  {
   "cell_type": "code",
   "execution_count": 24,
   "metadata": {},
   "outputs": [
    {
     "name": "stdout",
     "output_type": "stream",
     "text": [
      "text-embedding-ada-002\n"
     ]
    }
   ],
   "source": [
    "_ = [print(i.id) for i in openai.Model.list().data if 'embed' in i.id]"
   ]
  },
  {
   "cell_type": "code",
   "execution_count": 13,
   "metadata": {},
   "outputs": [
    {
     "data": {
      "text/plain": [
       "['OBJECT_NAME',\n",
       " '_DeletableAPIResource__prepare_delete',\n",
       " '_ListableAPIResource__prepare_list_requestor',\n",
       " '__class__',\n",
       " '__class_getitem__',\n",
       " '__contains__',\n",
       " '__copy__',\n",
       " '__deepcopy__',\n",
       " '__delattr__',\n",
       " '__delitem__',\n",
       " '__dict__',\n",
       " '__dir__',\n",
       " '__doc__',\n",
       " '__eq__',\n",
       " '__format__',\n",
       " '__ge__',\n",
       " '__getattr__',\n",
       " '__getattribute__',\n",
       " '__getitem__',\n",
       " '__gt__',\n",
       " '__hash__',\n",
       " '__init__',\n",
       " '__init_subclass__',\n",
       " '__ior__',\n",
       " '__iter__',\n",
       " '__le__',\n",
       " '__len__',\n",
       " '__lt__',\n",
       " '__module__',\n",
       " '__ne__',\n",
       " '__new__',\n",
       " '__or__',\n",
       " '__reduce__',\n",
       " '__reduce_ex__',\n",
       " '__repr__',\n",
       " '__reversed__',\n",
       " '__ror__',\n",
       " '__setattr__',\n",
       " '__setitem__',\n",
       " '__setstate__',\n",
       " '__sizeof__',\n",
       " '__str__',\n",
       " '__subclasshook__',\n",
       " '__weakref__',\n",
       " '_astatic_request',\n",
       " '_get_api_type_and_version',\n",
       " '_static_request',\n",
       " 'adelete',\n",
       " 'alist',\n",
       " 'api_base',\n",
       " 'api_base_override',\n",
       " 'api_prefix',\n",
       " 'arefresh',\n",
       " 'arequest',\n",
       " 'aretrieve',\n",
       " 'auto_paging_iter',\n",
       " 'azure_api_prefix',\n",
       " 'azure_deployments_prefix',\n",
       " 'class_url',\n",
       " 'clear',\n",
       " 'construct_from',\n",
       " 'copy',\n",
       " 'delete',\n",
       " 'fromkeys',\n",
       " 'get',\n",
       " 'instance_url',\n",
       " 'items',\n",
       " 'keys',\n",
       " 'list',\n",
       " 'openai_id',\n",
       " 'pop',\n",
       " 'popitem',\n",
       " 'refresh',\n",
       " 'refresh_from',\n",
       " 'request',\n",
       " 'response_ms',\n",
       " 'retrieve',\n",
       " 'setdefault',\n",
       " 'to_dict',\n",
       " 'to_dict_recursive',\n",
       " 'typed_api_type',\n",
       " 'update',\n",
       " 'values']"
      ]
     },
     "execution_count": 13,
     "metadata": {},
     "output_type": "execute_result"
    }
   ],
   "source": [
    "dir(openai.Model)"
   ]
  },
  {
   "cell_type": "code",
   "execution_count": 5,
   "metadata": {},
   "outputs": [
    {
     "data": {
      "text/plain": [
       "[Model(name='models/chat-bison-001', base_model_id='', version='001', display_name='Chat Bison', description='Chat-optimized generative language model.', input_token_limit=4096, output_token_limit=1024, supported_generation_methods=['generateMessage'], temperature=0.25, top_p=0.95, top_k=40),\n",
       " Model(name='models/text-bison-001', base_model_id='', version='001', display_name='Text Bison', description='Model targeted for text generation.', input_token_limit=8196, output_token_limit=1024, supported_generation_methods=['generateText'], temperature=0.7, top_p=0.95, top_k=40),\n",
       " Model(name='models/embedding-gecko-001', base_model_id='', version='001', display_name='Embedding Gecko', description='Obtain a distributed representation of a text.', input_token_limit=1024, output_token_limit=1, supported_generation_methods=['embedText'], temperature=None, top_p=None, top_k=None)]"
      ]
     },
     "execution_count": 5,
     "metadata": {},
     "output_type": "execute_result"
    }
   ],
   "source": [
    "list(palm.list_models())"
   ]
  },
  {
   "cell_type": "markdown",
   "metadata": {},
   "source": [
    "### Add clustered taxonomy"
   ]
  },
  {
   "cell_type": "code",
   "execution_count": null,
   "metadata": {},
   "outputs": [],
   "source": [
    "from lib.clustering import ClusterTopics\n",
    "\n",
    "queries = df['original_query'].tolist()\n",
    "\n",
    "model = ClusterTopics(\n",
    "        min_cluster_size =  3,\n",
    "        min_samples = None,\n",
    "        reduction_dims = 5,\n",
    "        cluster_model = \"agglomerative\",\n",
    "        cluster_categories = taxonomy,\n",
    "        use_elbow = True,\n",
    "        keep_outliers = False,\n",
    "        n_jobs = 3,\n",
    "    )\n",
    "\n",
    "\n",
    "labels, text_labels = model.fit(queries)\n",
    "label_lookup = {query: label for query, label in zip(queries, text_labels)}\n",
    "df['clustered_taxonomy'] = df['original_query'].map(label_lookup)\n",
    "\n",
    "df.to_csv(\"cais_taxonomy_clustered.csv\", index=False)\n",
    "\n",
    "df.head()"
   ]
  }
 ],
 "metadata": {
  "kernelspec": {
   "display_name": "taxonomy",
   "language": "python",
   "name": "python3"
  },
  "language_info": {
   "codemirror_mode": {
    "name": "ipython",
    "version": 3
   },
   "file_extension": ".py",
   "mimetype": "text/x-python",
   "name": "python",
   "nbconvert_exporter": "python",
   "pygments_lexer": "ipython3",
   "version": "3.9.16"
  },
  "orig_nbformat": 4
 },
 "nbformat": 4,
 "nbformat_minor": 2
}
