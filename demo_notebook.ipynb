{
 "cells": [
  {
   "cell_type": "markdown",
   "metadata": {},
   "source": [
    "### From a File\n"
   ]
  },
  {
   "cell_type": "code",
   "execution_count": null,
   "metadata": {},
   "outputs": [],
   "source": [
    "from main import create_taxonomy\n",
    "\n",
    "filename = \"cais_data_expanded.csv\"\n",
    "brand_terms = [\n",
    "    \"cais\",\n",
    "    \"cais group\",\n",
    "    \"glas\",\n",
    "    \"glas funds\",\n",
    "    \"halo\",\n",
    "    \"halo investing\",\n",
    "    \"icapital\",\n",
    "    \"icapital network\",\n",
    "]\n",
    "website_subject = \"Alternate Investing Platform\"\n",
    "\n",
    "taxonomy, df, samples = create_taxonomy(\n",
    "    filename,\n",
    "    text_column=\"keyword\",\n",
    "    search_volume_column=\"search_volume\",\n",
    "    min_df=5,\n",
    "    brand_terms=brand_terms,\n",
    ")\n",
    "\n",
    "df.to_csv(\"cais_data_taxonomy.csv\", index=False)\n",
    "\n",
    "print(\"\\n\".join(taxonomy))"
   ]
  },
  {
   "cell_type": "code",
   "execution_count": null,
   "metadata": {},
   "outputs": [],
   "source": [
    "from main import create_taxonomy\n",
    "\n",
    "filename = \"HM Raw Data.csv\"\n",
    "website_subject = \"Houston Methodist Hospital\"\n",
    "\n",
    "brand_terms = [\n",
    "    \"luke\",\n",
    "    \"lukes\",\n",
    "    \"md anderson\",\n",
    "    \"anderson\",\n",
    "    \"hca\",\n",
    "    \"stlukes\",\n",
    "    \"memorial hermann\",\n",
    "    \"hermann\",\n",
    "    \"herman\",\n",
    "    \"houston methodist\",\n",
    "    \"methodist\",\n",
    "    \"st joseph\",\n",
    "    \"joseph\",\n",
    "]\n",
    "\n",
    "taxonomy, df, samples = create_taxonomy(\n",
    "    filename,\n",
    "    website_subject=website_subject,\n",
    "    text_column=\"keyword\",\n",
    "    search_volume_column=\"search_volume\",\n",
    "    min_cluster_size=10,\n",
    "    min_samples=3,\n",
    "    limit_queries=3,\n",
    "    ngram_range=(1, 5),\n",
    "    min_df=10,\n",
    "    brand_terms=brand_terms,\n",
    ")\n",
    "\n",
    "\n",
    "df.to_csv(\"HM_Raw_Data_ngram_taxonomy2.csv\", index=False)\n",
    "print(\"\\n\".join(taxonomy))"
   ]
  },
  {
   "cell_type": "markdown",
   "metadata": {},
   "source": [
    "### From a GSC Account"
   ]
  },
  {
   "cell_type": "code",
   "execution_count": null,
   "metadata": {},
   "outputs": [],
   "source": [
    "from main import create_taxonomy\n",
    "\n",
    "brand_terms = [\"ledgeloungers\", \"ledge\"]\n",
    "property = \"sc-domain:ledgeloungers.com\"\n",
    "website_subject = \"Ledge Lounger offers luxury pool & outdoor furniture designed to create perfect spaces for outdoor entertaining and relaxation.\"\n",
    "\n",
    "taxonomy, df, samples = create_taxonomy(\n",
    "    property,\n",
    "    website_subject=website_subject,\n",
    "    days=30,\n",
    "    ngram_range=(1, 5),\n",
    "    min_df=5,\n",
    "    brand_terms=brand_terms,\n",
    "    limit_queries_per_page=5,\n",
    ")\n",
    "\n",
    "\n",
    "df.to_csv(\"ledgeloungers_taxonomy.csv\", index=False)\n",
    "\n",
    "df.head()"
   ]
  },
  {
   "cell_type": "code",
   "execution_count": 5,
   "metadata": {},
   "outputs": [
    {
     "data": {
      "text/html": [
       "<div>\n",
       "<style scoped>\n",
       "    .dataframe tbody tr th:only-of-type {\n",
       "        vertical-align: middle;\n",
       "    }\n",
       "\n",
       "    .dataframe tbody tr th {\n",
       "        vertical-align: top;\n",
       "    }\n",
       "\n",
       "    .dataframe thead th {\n",
       "        text-align: right;\n",
       "    }\n",
       "</style>\n",
       "<table border=\"1\" class=\"dataframe\">\n",
       "  <thead>\n",
       "    <tr style=\"text-align: right;\">\n",
       "      <th></th>\n",
       "      <th>keyword</th>\n",
       "      <th>position</th>\n",
       "      <th>previous_position</th>\n",
       "      <th>position_difference</th>\n",
       "      <th>url</th>\n",
       "      <th>traffic</th>\n",
       "      <th>number_of_results</th>\n",
       "      <th>keyword_difficulty</th>\n",
       "      <th>timestamp</th>\n",
       "      <th>intent_commercial</th>\n",
       "      <th>...</th>\n",
       "      <th>sv_1</th>\n",
       "      <th>sv_12</th>\n",
       "      <th>sv_11</th>\n",
       "      <th>sv_10</th>\n",
       "      <th>sv_9</th>\n",
       "      <th>sv_8</th>\n",
       "      <th>sv_7</th>\n",
       "      <th>search_volume_percentiles</th>\n",
       "      <th>corpus</th>\n",
       "      <th>category</th>\n",
       "    </tr>\n",
       "  </thead>\n",
       "  <tbody>\n",
       "    <tr>\n",
       "      <th>38029</th>\n",
       "      <td>elcy john</td>\n",
       "      <td>1</td>\n",
       "      <td>1</td>\n",
       "      <td>0</td>\n",
       "      <td>https://www.memorialhermann.org/doctors/ob-gyn...</td>\n",
       "      <td>56</td>\n",
       "      <td>346000</td>\n",
       "      <td>21</td>\n",
       "      <td>1688396090</td>\n",
       "      <td>0</td>\n",
       "      <td>...</td>\n",
       "      <td>90</td>\n",
       "      <td>90</td>\n",
       "      <td>90</td>\n",
       "      <td>70</td>\n",
       "      <td>90</td>\n",
       "      <td>170</td>\n",
       "      <td>90</td>\n",
       "      <td>60</td>\n",
       "      <td>person</td>\n",
       "      <td>Person</td>\n",
       "    </tr>\n",
       "    <tr>\n",
       "      <th>10405</th>\n",
       "      <td>breast cancer and wine</td>\n",
       "      <td>1</td>\n",
       "      <td>1</td>\n",
       "      <td>0</td>\n",
       "      <td>https://www.mdanderson.org/publications/focuse...</td>\n",
       "      <td>7</td>\n",
       "      <td>23600000</td>\n",
       "      <td>50</td>\n",
       "      <td>1687319732</td>\n",
       "      <td>0</td>\n",
       "      <td>...</td>\n",
       "      <td>210</td>\n",
       "      <td>170</td>\n",
       "      <td>210</td>\n",
       "      <td>260</td>\n",
       "      <td>170</td>\n",
       "      <td>170</td>\n",
       "      <td>140</td>\n",
       "      <td>80</td>\n",
       "      <td>breast cancer wine</td>\n",
       "      <td>Breast Cancer</td>\n",
       "    </tr>\n",
       "    <tr>\n",
       "      <th>75246</th>\n",
       "      <td>methodist hospital houston texas medical center</td>\n",
       "      <td>1</td>\n",
       "      <td>1</td>\n",
       "      <td>0</td>\n",
       "      <td>https://www.houstonmethodist.org/</td>\n",
       "      <td>32</td>\n",
       "      <td>6060000</td>\n",
       "      <td>77</td>\n",
       "      <td>1688065061</td>\n",
       "      <td>0</td>\n",
       "      <td>...</td>\n",
       "      <td>210</td>\n",
       "      <td>210</td>\n",
       "      <td>260</td>\n",
       "      <td>210</td>\n",
       "      <td>170</td>\n",
       "      <td>210</td>\n",
       "      <td>210</td>\n",
       "      <td>80</td>\n",
       "      <td>organization</td>\n",
       "      <td>Organization</td>\n",
       "    </tr>\n",
       "    <tr>\n",
       "      <th>75247</th>\n",
       "      <td>methodist hospital houston tx</td>\n",
       "      <td>1</td>\n",
       "      <td>1</td>\n",
       "      <td>0</td>\n",
       "      <td>https://www.houstonmethodist.org/</td>\n",
       "      <td>5</td>\n",
       "      <td>7150000</td>\n",
       "      <td>81</td>\n",
       "      <td>1687809582</td>\n",
       "      <td>0</td>\n",
       "      <td>...</td>\n",
       "      <td>1000</td>\n",
       "      <td>880</td>\n",
       "      <td>1000</td>\n",
       "      <td>1300</td>\n",
       "      <td>1000</td>\n",
       "      <td>1300</td>\n",
       "      <td>1000</td>\n",
       "      <td>100</td>\n",
       "      <td>methodist hospital location tx</td>\n",
       "      <td>Methodist Hospital</td>\n",
       "    </tr>\n",
       "    <tr>\n",
       "      <th>75248</th>\n",
       "      <td>methodist hospital human resources</td>\n",
       "      <td>1</td>\n",
       "      <td>1</td>\n",
       "      <td>0</td>\n",
       "      <td>https://www.houstonmethodist.org/for-health-pr...</td>\n",
       "      <td>112</td>\n",
       "      <td>6390000</td>\n",
       "      <td>67</td>\n",
       "      <td>1687060684</td>\n",
       "      <td>0</td>\n",
       "      <td>...</td>\n",
       "      <td>210</td>\n",
       "      <td>110</td>\n",
       "      <td>170</td>\n",
       "      <td>210</td>\n",
       "      <td>170</td>\n",
       "      <td>140</td>\n",
       "      <td>170</td>\n",
       "      <td>80</td>\n",
       "      <td>methodist hospital human resource</td>\n",
       "      <td>Methodist Hospital</td>\n",
       "    </tr>\n",
       "  </tbody>\n",
       "</table>\n",
       "<p>5 rows × 62 columns</p>\n",
       "</div>"
      ],
      "text/plain": [
       "                                               keyword  position  \\\n",
       "38029                                        elcy john         1   \n",
       "10405                           breast cancer and wine         1   \n",
       "75246  methodist hospital houston texas medical center         1   \n",
       "75247                    methodist hospital houston tx         1   \n",
       "75248               methodist hospital human resources         1   \n",
       "\n",
       "       previous_position  position_difference  \\\n",
       "38029                  1                    0   \n",
       "10405                  1                    0   \n",
       "75246                  1                    0   \n",
       "75247                  1                    0   \n",
       "75248                  1                    0   \n",
       "\n",
       "                                                     url  traffic  \\\n",
       "38029  https://www.memorialhermann.org/doctors/ob-gyn...       56   \n",
       "10405  https://www.mdanderson.org/publications/focuse...        7   \n",
       "75246                  https://www.houstonmethodist.org/       32   \n",
       "75247                  https://www.houstonmethodist.org/        5   \n",
       "75248  https://www.houstonmethodist.org/for-health-pr...      112   \n",
       "\n",
       "       number_of_results  keyword_difficulty   timestamp  intent_commercial  \\\n",
       "38029             346000                  21  1688396090                  0   \n",
       "10405           23600000                  50  1687319732                  0   \n",
       "75246            6060000                  77  1688065061                  0   \n",
       "75247            7150000                  81  1687809582                  0   \n",
       "75248            6390000                  67  1687060684                  0   \n",
       "\n",
       "       ...  sv_1  sv_12  sv_11  sv_10  sv_9  sv_8  sv_7  \\\n",
       "38029  ...    90     90     90     70    90   170    90   \n",
       "10405  ...   210    170    210    260   170   170   140   \n",
       "75246  ...   210    210    260    210   170   210   210   \n",
       "75247  ...  1000    880   1000   1300  1000  1300  1000   \n",
       "75248  ...   210    110    170    210   170   140   170   \n",
       "\n",
       "       search_volume_percentiles                             corpus  \\\n",
       "38029                         60                             person   \n",
       "10405                         80                 breast cancer wine   \n",
       "75246                         80                       organization   \n",
       "75247                        100     methodist hospital location tx   \n",
       "75248                         80  methodist hospital human resource   \n",
       "\n",
       "                 category  \n",
       "38029              Person  \n",
       "10405       Breast Cancer  \n",
       "75246        Organization  \n",
       "75247  Methodist Hospital  \n",
       "75248  Methodist Hospital  \n",
       "\n",
       "[5 rows x 62 columns]"
      ]
     },
     "execution_count": 5,
     "metadata": {},
     "output_type": "execute_result"
    }
   ],
   "source": [
    "df.head()"
   ]
  },
  {
   "cell_type": "code",
   "execution_count": 1,
   "metadata": {},
   "outputs": [],
   "source": [
    "import pandas as pd\n",
    "\n",
    "df = pd.read_csv(\"HM Raw Data.csv\")\n",
    "df.sort_values(\"position\", ascending=True, inplace=True)\n",
    "\n",
    "by_url = (\n",
    "    df.groupby(\"url\")\n",
    "    .agg({\"search_volume\": \"sum\", \"keyword\": list})\n",
    "    .sort_values(\"search_volume\", ascending=False)\n",
    "    .head(10)\n",
    ")"
   ]
  },
  {
   "cell_type": "code",
   "execution_count": 6,
   "metadata": {},
   "outputs": [
    {
     "data": {
      "text/html": [
       "<div>\n",
       "<style scoped>\n",
       "    .dataframe tbody tr th:only-of-type {\n",
       "        vertical-align: middle;\n",
       "    }\n",
       "\n",
       "    .dataframe tbody tr th {\n",
       "        vertical-align: top;\n",
       "    }\n",
       "\n",
       "    .dataframe thead th {\n",
       "        text-align: right;\n",
       "    }\n",
       "</style>\n",
       "<table border=\"1\" class=\"dataframe\">\n",
       "  <thead>\n",
       "    <tr style=\"text-align: right;\">\n",
       "      <th></th>\n",
       "      <th>search_volume</th>\n",
       "      <th>keyword</th>\n",
       "    </tr>\n",
       "    <tr>\n",
       "      <th>url</th>\n",
       "      <th></th>\n",
       "      <th></th>\n",
       "    </tr>\n",
       "  </thead>\n",
       "  <tbody>\n",
       "    <tr>\n",
       "      <th>https://www.mdanderson.org/treatment-options/targeted-therapy.html</th>\n",
       "      <td>60833080</td>\n",
       "      <td>[precision targeted, precision targeted therap...</td>\n",
       "    </tr>\n",
       "    <tr>\n",
       "      <th>https://www.mdanderson.org/cancerwise/canker-sore-vs--oral-cancer--how-can-you-tell-the-difference.h00-159542901.html</th>\n",
       "      <td>28151760</td>\n",
       "      <td>[does oral cancer hurt, gum canker sore vs can...</td>\n",
       "    </tr>\n",
       "    <tr>\n",
       "      <th>https://www.mdanderson.org/cancerwise/swollen-lymph-nodes-and-other-symptoms-of-lymphoma.h00-159464790.html</th>\n",
       "      <td>26339310</td>\n",
       "      <td>[what are normal size lymph nodes, does swolle...</td>\n",
       "    </tr>\n",
       "    <tr>\n",
       "      <th>https://www.mdanderson.org/patients-family/becoming-our-patient/getting-to-md-anderson/wayfinding.html</th>\n",
       "      <td>24667830</td>\n",
       "      <td>[directions to md anderson, md anderson shuttl...</td>\n",
       "    </tr>\n",
       "    <tr>\n",
       "      <th>https://hcahealthcare.com/</th>\n",
       "      <td>20334720</td>\n",
       "      <td>[hca facility, hca flu track, hca hea, hca hea...</td>\n",
       "    </tr>\n",
       "  </tbody>\n",
       "</table>\n",
       "</div>"
      ],
      "text/plain": [
       "                                                    search_volume  \\\n",
       "url                                                                 \n",
       "https://www.mdanderson.org/treatment-options/ta...       60833080   \n",
       "https://www.mdanderson.org/cancerwise/canker-so...       28151760   \n",
       "https://www.mdanderson.org/cancerwise/swollen-l...       26339310   \n",
       "https://www.mdanderson.org/patients-family/beco...       24667830   \n",
       "https://hcahealthcare.com/                               20334720   \n",
       "\n",
       "                                                                                              keyword  \n",
       "url                                                                                                    \n",
       "https://www.mdanderson.org/treatment-options/ta...  [precision targeted, precision targeted therap...  \n",
       "https://www.mdanderson.org/cancerwise/canker-so...  [does oral cancer hurt, gum canker sore vs can...  \n",
       "https://www.mdanderson.org/cancerwise/swollen-l...  [what are normal size lymph nodes, does swolle...  \n",
       "https://www.mdanderson.org/patients-family/beco...  [directions to md anderson, md anderson shuttl...  \n",
       "https://hcahealthcare.com/                          [hca facility, hca flu track, hca hea, hca hea...  "
      ]
     },
     "execution_count": 6,
     "metadata": {},
     "output_type": "execute_result"
    }
   ],
   "source": [
    "by_url.head()"
   ]
  },
  {
   "cell_type": "code",
   "execution_count": 7,
   "metadata": {},
   "outputs": [
    {
     "name": "stderr",
     "output_type": "stream",
     "text": [
      " 10%|█         | 1/10 [00:01<00:12,  1.42s/it]"
     ]
    },
    {
     "name": "stdout",
     "output_type": "stream",
     "text": [
      "Understanding Precision Targeted Therapy and Targeted Therapeutics in Precision Medicine for Cancer\n",
      "precision targeted, precision targeted therapy, precision therapy, precision medicine for cancer, target therapy, targeted therapies, targeted therapy, targeted therapeutics, what is targeted therapy, what is target therapy\n",
      "\n"
     ]
    },
    {
     "name": "stderr",
     "output_type": "stream",
     "text": [
      " 20%|██        | 2/10 [00:02<00:07,  1.02it/s]"
     ]
    },
    {
     "name": "stdout",
     "output_type": "stream",
     "text": [
      "Understanding the Difference Between Oral Cancer and Canker Sores\n",
      "does oral cancer hurt, gum canker sore vs cancer, tongue canker sore vs cancer, tongue cancer vs canker sore, oral cancer canker sore, oral cancer or canker sore, oral cancer vs canker sore, oral cancer ulcer, canker sore vs cancer, canker sore vs cancer of the mouth\n",
      "\n"
     ]
    },
    {
     "name": "stderr",
     "output_type": "stream",
     "text": [
      " 30%|███       | 3/10 [00:02<00:06,  1.06it/s]"
     ]
    },
    {
     "name": "stdout",
     "output_type": "stream",
     "text": [
      "Understanding Lymph Nodes: Size, Swelling, and Cancer\n",
      "what are normal size lymph nodes, does swollen lymph nodes mean cancer, does lymph node cancer hurt, lymph node mass, lymph nodes in neck always swollen, lymph node size, size of lymph nodes, lymph nodes big, lymph nodes size, swollen lymph nodes neck cancer\n",
      "\n"
     ]
    },
    {
     "name": "stderr",
     "output_type": "stream",
     "text": [
      " 40%|████      | 4/10 [00:03<00:04,  1.26it/s]"
     ]
    },
    {
     "name": "stdout",
     "output_type": "stream",
     "text": [
      "Getting to MD Anderson: Directions, Shuttle Information, and Address\n",
      "directions to md anderson, md anderson shuttle, md anderson shuttle tracker, oneaccess md anderson, mda bus tracker, pickens tower md anderson, md anderson pickens tower, address md anderson, anderson directions, address for md anderson cancer center\n",
      "\n"
     ]
    },
    {
     "name": "stderr",
     "output_type": "stream",
     "text": [
      " 50%|█████     | 5/10 [00:04<00:03,  1.38it/s]"
     ]
    },
    {
     "name": "stdout",
     "output_type": "stream",
     "text": [
      "HCA Healthcare: Facilities, Flu Tracking, and Corporate Information\n",
      "hca facility, hca flu track, hca hea, hca heal, hca corporation, hca healtcare, hca health, hca helthcare, hca helathcare, hca heathcare\n",
      "\n"
     ]
    },
    {
     "name": "stderr",
     "output_type": "stream",
     "text": [
      " 60%|██████    | 6/10 [00:05<00:03,  1.07it/s]"
     ]
    },
    {
     "name": "stdout",
     "output_type": "stream",
     "text": [
      "Understanding the Causes of Lower Back Pain\n",
      "what can cause severe lower back pain, what can cause lower back pain, what can cause low back pain, what causes severe lower back pain, what causes your lower back to hurt, what causes pain in my lower back, what causes pain in lower back, what causes pain in the lower back, what causes pain in your lower back, what could lower back pain mean\n",
      "\n"
     ]
    },
    {
     "name": "stderr",
     "output_type": "stream",
     "text": [
      " 70%|███████   | 7/10 [00:06<00:02,  1.06it/s]"
     ]
    },
    {
     "name": "stdout",
     "output_type": "stream",
     "text": [
      "Effective Remedies and Treatments for Cold Sores and Lip Blisters\n",
      "what can help cold sores, sore on lips remedy, what can i use on cold sores, what can i put on cold sore, what can you use for cold sores, lip blisters treatment, lip blister remedy, lip sore remedy, healing cold sores fast, heal blister on lip\n",
      "\n"
     ]
    },
    {
     "name": "stderr",
     "output_type": "stream",
     "text": [
      " 80%|████████  | 8/10 [00:07<00:01,  1.17it/s]"
     ]
    },
    {
     "name": "stdout",
     "output_type": "stream",
     "text": [
      "Understanding the Signs and Symptoms of Skin Cancer\n",
      "what are the signs of skin cancer, what are the symptoms of skin cancer, leg skin cancer symptoms, what are symptoms of skin cancer, what are signs of skin cancer, warning signs of skin cancer, skin cancer effects, skin cancer first signs, skin cancer indications, skin cancer early symptoms\n",
      "\n"
     ]
    },
    {
     "name": "stderr",
     "output_type": "stream",
     "text": [
      " 90%|█████████ | 9/10 [00:07<00:00,  1.21it/s]"
     ]
    },
    {
     "name": "stdout",
     "output_type": "stream",
     "text": [
      "Understanding Pancreatic Cancer: Symptoms, Treatment, and Support for Patients\n",
      "md anderson pancreatic cancer, cancer pancreatic, pancreatic tumor, pancreas cancer, pan creatic cancer, cancer of pancreas, pancreatic cancer patient, pancreatic cancer patients, pancreatic cancer tumor, pancratic cancer\n",
      "\n"
     ]
    },
    {
     "name": "stderr",
     "output_type": "stream",
     "text": [
      "100%|██████████| 10/10 [00:08<00:00,  1.14it/s]"
     ]
    },
    {
     "name": "stdout",
     "output_type": "stream",
     "text": [
      "Understanding Colon Cancer: Symptoms, Definitions, and Origins\n",
      "symptoms of colon cancer in man, symptoms of colorectal cancer in males, colon cancer md anderson, md anderson colon cancer, symptons colon cancer, colorectal cancer definition, definition of colon cancer, cancer of colon, definition colorectal cancer, how do colon cancer start\n",
      "\n"
     ]
    },
    {
     "name": "stderr",
     "output_type": "stream",
     "text": [
      "\n"
     ]
    }
   ],
   "source": [
    "from lib.api import get_openai_response_chat\n",
    "import settings\n",
    "from tqdm import tqdm\n",
    "\n",
    "for url, row in tqdm(by_url.iterrows(), total=by_url.shape[0]):\n",
    "    samples = \"\\n\".join(row[\"keyword\"][:10])\n",
    "\n",
    "    prompt = f\"\"\"As an expert at understanding search intent, \n",
    "    Please provide a decrtiptive subject for the page based on the provided Search Queries.\n",
    "\n",
    "    Search Queries:\n",
    "    {samples}\n",
    "\n",
    "    Subject: \"\"\"\n",
    "\n",
    "    explanation = get_openai_response_chat(\n",
    "        prompt,\n",
    "        model=settings.CLUSTER_DESCRIPTION_MODEL,\n",
    "        system_message=\"You are an expert at understanding the intent of Google searches.\",\n",
    "    )\n",
    "\n",
    "    samples = \", \".join(row[\"keyword\"][:10])\n",
    "    print(explanation)\n",
    "    print(samples)\n",
    "    print()"
   ]
  }
 ],
 "metadata": {
  "kernelspec": {
   "display_name": "taxonomy",
   "language": "python",
   "name": "python3"
  },
  "language_info": {
   "codemirror_mode": {
    "name": "ipython",
    "version": 3
   },
   "file_extension": ".py",
   "mimetype": "text/x-python",
   "name": "python",
   "nbconvert_exporter": "python",
   "pygments_lexer": "ipython3",
   "version": "3.9.17"
  },
  "orig_nbformat": 4
 },
 "nbformat": 4,
 "nbformat_minor": 2
}
