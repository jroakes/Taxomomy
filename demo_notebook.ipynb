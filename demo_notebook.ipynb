{
 "cells": [
  {
   "cell_type": "markdown",
   "metadata": {},
   "source": [
    "### From a File\n"
   ]
  },
  {
   "cell_type": "code",
   "execution_count": null,
   "metadata": {},
   "outputs": [],
   "source": [
    "from main import create_taxonomy\n",
    "\n",
    "filename = \"cais_data_expanded.csv\"\n",
    "brand_terms = [\n",
    "    \"cais\",\n",
    "    \"cais group\",\n",
    "    \"glas\",\n",
    "    \"glas funds\",\n",
    "    \"halo\",\n",
    "    \"halo investing\",\n",
    "    \"icapital\",\n",
    "    \"icapital network\",\n",
    "]\n",
    "website_subject = \"Alternate Investing Platform\"\n",
    "\n",
    "taxonomy, df, samples = create_taxonomy(\n",
    "    filename,\n",
    "    text_column=\"keyword\",\n",
    "    search_volume_column=\"search_volume\",\n",
    "    min_df=5,\n",
    "    brand_terms=brand_terms,\n",
    ")\n",
    "\n",
    "df.to_csv(\"cais_data_taxonomy.csv\", index=False)\n",
    "\n",
    "print(\"\\n\".join(taxonomy))"
   ]
  },
  {
   "cell_type": "code",
   "execution_count": null,
   "metadata": {},
   "outputs": [],
   "source": [
    "from main import create_taxonomy\n",
    "\n",
    "filename = \"HM Raw Data.csv\"\n",
    "website_subject = \"Houston Methodist Hospital\"\n",
    "\n",
    "brand_terms = [\n",
    "    \"luke\",\n",
    "    \"lukes\",\n",
    "    \"md anderson\",\n",
    "    \"anderson\",\n",
    "    \"hca\",\n",
    "    \"stlukes\",\n",
    "    \"memorial hermann\",\n",
    "    \"hermann\",\n",
    "    \"herman\",\n",
    "    \"houston methodist\",\n",
    "    \"methodist\",\n",
    "    \"st joseph\",\n",
    "    \"joseph\",\n",
    "]\n",
    "\n",
    "taxonomy, df, samples = create_taxonomy(\n",
    "    filename,\n",
    "    website_subject=website_subject,\n",
    "    text_column=\"keyword\",\n",
    "    search_volume_column=\"search_volume\",\n",
    "    min_cluster_size=10,\n",
    "    min_samples=3,\n",
    "    limit_queries=3,\n",
    "    ngram_range=(1, 5),\n",
    "    min_df=10,\n",
    "    brand_terms=brand_terms,\n",
    ")\n",
    "\n",
    "\n",
    "df.to_csv(\"HM_Raw_Data_ngram_taxonomy2.csv\", index=False)\n",
    "print(\"\\n\".join(taxonomy))"
   ]
  },
  {
   "cell_type": "markdown",
   "metadata": {},
   "source": [
    "### From a GSC Account"
   ]
  },
  {
   "cell_type": "code",
   "execution_count": null,
   "metadata": {},
   "outputs": [],
   "source": [
    "from main import create_taxonomy\n",
    "\n",
    "brand_terms = [\"ledgeloungers\", \"ledge\"]\n",
    "property = \"sc-domain:ledgeloungers.com\"\n",
    "website_subject = \"Ledge Lounger offers luxury pool & outdoor furniture designed to create perfect spaces for outdoor entertaining and relaxation.\"\n",
    "\n",
    "taxonomy, df, samples = create_taxonomy(\n",
    "    property,\n",
    "    website_subject=website_subject,\n",
    "    days=30,\n",
    "    ngram_range=(1, 5),\n",
    "    min_df=5,\n",
    "    brand_terms=brand_terms,\n",
    "    limit_queries_per_page=5,\n",
    ")\n",
    "\n",
    "\n",
    "df.to_csv(\"ledgeloungers_taxonomy.csv\", index=False)\n",
    "\n",
    "df.head()"
   ]
  }
 ],
 "metadata": {
  "kernelspec": {
   "display_name": "taxonomy",
   "language": "python",
   "name": "python3"
  },
  "language_info": {
   "codemirror_mode": {
    "name": "ipython",
    "version": 3
   },
   "file_extension": ".py",
   "mimetype": "text/x-python",
   "name": "python",
   "nbconvert_exporter": "python",
   "pygments_lexer": "ipython3",
   "version": "3.9.17"
  },
  "orig_nbformat": 4
 },
 "nbformat": 4,
 "nbformat_minor": 2
}
